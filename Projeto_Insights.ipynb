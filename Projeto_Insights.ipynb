{
  "nbformat": 4,
  "nbformat_minor": 0,
  "metadata": {
    "colab": {
      "provenance": [],
      "collapsed_sections": [
        "QDZXIUhSVjey",
        "stiaMWKvT-OS",
        "X8ih0xEBTESv",
        "mrrnzuj6WGgx",
        "V3mLHGRjOntI",
        "NYW0Bbt2O1hH",
        "G6jdPI1DqMBX",
        "EkUE-OyqI0y3",
        "ILUpmkP6zRL-"
      ],
      "mount_file_id": "1eOEfL8n1VWg7icXX80Cg3vxo9D5rtKk-",
      "authorship_tag": "ABX9TyMJSUwrcd6GdiBl9RkMvJEX",
      "include_colab_link": true
    },
    "kernelspec": {
      "name": "python3",
      "display_name": "Python 3"
    },
    "language_info": {
      "name": "python"
    }
  },
  "cells": [
    {
      "cell_type": "markdown",
      "metadata": {
        "id": "view-in-github",
        "colab_type": "text"
      },
      "source": [
        "<a href=\"https://colab.research.google.com/github/Jorgepratesn/Projetos/blob/main/Projeto_Insights.ipynb\" target=\"_parent\"><img src=\"https://colab.research.google.com/assets/colab-badge.svg\" alt=\"Open In Colab\"/></a>"
      ]
    },
    {
      "cell_type": "code",
      "execution_count": null,
      "metadata": {
        "id": "2G_5Y3LySQ2w"
      },
      "outputs": [],
      "source": []
    },
    {
      "cell_type": "markdown",
      "source": [
        "# Projeto Insights House Rocket"
      ],
      "metadata": {
        "id": "1j8JAYfoUnAM"
      }
    },
    {
      "cell_type": "markdown",
      "source": [
        "## Contexto do Desafio:"
      ],
      "metadata": {
        "id": "QDZXIUhSVjey"
      }
    },
    {
      "cell_type": "markdown",
      "source": [
        "A House Rocket é uma plataforma digital que tem como modelo de negócio, a compra e a venda de imóveis usando tecnologia.\n",
        "\n",
        "O CEO da House Rocket gostaria de maximizar a receita da empresa encontrando boas oportunidades de negócio.\n",
        "\n",
        "Sua principal estratégia é comprar boas casas em ótimas localizações com preços baixos e depois revendê-las posteriormente à preços mais altos. Quanto maior a diferença entre a compra e a venda, maior o lucro da empresa e portanto maior sua receita.\n",
        "\n",
        "Entretanto, as casas possuem muitos atributos que as tornam mais ou menos atrativas aos compradores e vendedores e a localização e o período do ano também podem influenciar os preços.\n",
        "\n",
        "O projeto desenvolvido a seguir tem como objetivo responder 3 perguntas:\n",
        "\n",
        "1.   Quais casas o CEO da House Rocket deveria comprar e por qual preço de compra?\n",
        "2.   Uma vez a casa em posse da empresa, qual o melhor momento para vendê-las e qual seria o preço da venda?\n",
        "3.   A House Rocket deveria fazer uma reforma para aumentar o preço da venda? Quais seriam as sugestões de mudanças? Qual o incremento no preço dado por cada opção de reforma?"
      ],
      "metadata": {
        "id": "wE9KjoIqUwN0"
      }
    },
    {
      "cell_type": "markdown",
      "source": [
        "## Importação de pacotes basicos"
      ],
      "metadata": {
        "id": "stiaMWKvT-OS"
      }
    },
    {
      "cell_type": "code",
      "source": [
        "import pandas as pd\n",
        "import numpy as np\n",
        "import seaborn as sns\n",
        "import matplotlib.pyplot as plt"
      ],
      "metadata": {
        "id": "768YTDbrUBg9"
      },
      "execution_count": 1,
      "outputs": []
    },
    {
      "cell_type": "markdown",
      "source": [
        "## Base de dados"
      ],
      "metadata": {
        "id": "X8ih0xEBTESv"
      }
    },
    {
      "cell_type": "markdown",
      "source": [
        "\n",
        "\n",
        "*   Fonte dos dados: https://www.kaggle.com/datasets/harlfoxem/housesalesprediction?resource=download\n",
        "\n",
        "\n"
      ],
      "metadata": {
        "id": "y6iXxwCHTLqO"
      }
    },
    {
      "cell_type": "code",
      "source": [
        "base_house=pd.read_csv('https://raw.githubusercontent.com/Jorgepratesn/Projetos/main/kc_house_data.csv')"
      ],
      "metadata": {
        "id": "dapFWQ4mBaGo"
      },
      "execution_count": 66,
      "outputs": []
    },
    {
      "cell_type": "markdown",
      "source": [
        "## Exploração e limpeza dos Dados"
      ],
      "metadata": {
        "id": "mrrnzuj6WGgx"
      }
    },
    {
      "cell_type": "code",
      "source": [
        "#Verificando as variaveis presentes na tabela\n",
        "base_house.head(10)"
      ],
      "metadata": {
        "id": "Yr5FLwZSWL9c"
      },
      "execution_count": null,
      "outputs": []
    },
    {
      "cell_type": "code",
      "source": [
        "#Alterando a variavel yr_renovated para um binario entre renovada ou não\n",
        "base_house['renovated'] = base_house['yr_renovated'].apply(lambda x: '0' if x == 0 else '1')"
      ],
      "metadata": {
        "id": "dw1ylC9idLb8"
      },
      "execution_count": 4,
      "outputs": []
    },
    {
      "cell_type": "code",
      "source": [
        "#Excluindo variaveis que não serão usadas na análise\n",
        "base_house = base_house.drop(['lat', 'long','yr_renovated'], axis=1)"
      ],
      "metadata": {
        "id": "SjOxWjUWb6KF"
      },
      "execution_count": 5,
      "outputs": []
    },
    {
      "cell_type": "code",
      "source": [
        "#Verificar os tipos de variáveis na base de dados\n",
        "base_house.dtypes"
      ],
      "metadata": {
        "id": "vieWqVfGa9H4"
      },
      "execution_count": null,
      "outputs": []
    },
    {
      "cell_type": "code",
      "source": [
        "#Alterar os tipos de variaveis que estão errados\n",
        "base_house['id'] = base_house['id'].astype('category')\n",
        "base_house['waterfront'] = base_house['waterfront'].astype('category')\n",
        "base_house['condition'] = base_house['condition'].astype('category')\n",
        "base_house['zipcode'] = base_house['zipcode'].astype('category')\n",
        "base_house.dtypes"
      ],
      "metadata": {
        "id": "CwQ8xVg_bB1h"
      },
      "execution_count": null,
      "outputs": []
    },
    {
      "cell_type": "code",
      "source": [
        "#Verificação para entender se será necessario tratar valores faltantes\n",
        "base_house.isnull().sum()"
      ],
      "metadata": {
        "id": "aFO7cRlOaUTE"
      },
      "execution_count": null,
      "outputs": []
    },
    {
      "cell_type": "code",
      "source": [
        "#Estatisticas descritivas das variaveis qualitativas - Entendendo como estão distribuidos os dados\n",
        "#Por exemplo: É possivel observar que a grande maioria das cadas tem 3 ou mais banheiros e tem entre 1 e 2 pavimentos\n",
        "#Pode-se observar tambem que não há valores negativos na base\n",
        "variaveis_quantitativas = base_house.select_dtypes(include='number')\n",
        "variaveis_quantitativas.describe()"
      ],
      "metadata": {
        "id": "6W1To8eFXEte"
      },
      "execution_count": null,
      "outputs": []
    },
    {
      "cell_type": "code",
      "source": [
        "#Para as variaveis quantitativas podemos entender quais são as caracteristicas mais presentes\n",
        "#Por exemplo: É possivel observar que 99,2% das casas não são de frente para o mar\n",
        "base_house[\"waterfront\"].value_counts()\n",
        "base_house[\"zipcode\"].value_counts()\n",
        "base_house[\"renovated\"].value_counts()\n",
        "base_house[\"condition\"].value_counts()"
      ],
      "metadata": {
        "id": "6ovb1VOrxhk8"
      },
      "execution_count": null,
      "outputs": []
    },
    {
      "cell_type": "code",
      "source": [
        "#Graficos boxplot para definição de outliers\n",
        "\n",
        "# Definir as variaveis que serão utilizadas\n",
        "variaveis_categoricas = ['waterfront', 'bedrooms', 'bathrooms', 'floors', 'condition', 'grade', 'yr_built','zipcode']\n",
        "Y1 = base_house[\"price\"]\n",
        "# Configurar o tamanho da figura\n",
        "plt.figure(figsize=(14, 8))\n",
        "# Criar um subplot com várias boxplots\n",
        "for i, variavel in enumerate(variaveis_categoricas, 1):\n",
        "    plt.subplot(2, 4, i)\n",
        "    sns.boxplot(x=variavel, y=Y1, data=base_house)\n",
        "    plt.title(f'Boxplot {variavel}')\n",
        "    plt.xlabel(variavel)\n",
        "    plt.ylabel('Price')\n",
        "plt.tight_layout()\n",
        "plt.show()\n",
        "#É possivel observar que, embora haja outliers em todos os casos,somente quando o grafico é traçado usando os zipcodes há outliers negativos"
      ],
      "metadata": {
        "id": "fVHfA6Mi2RL0"
      },
      "execution_count": null,
      "outputs": []
    },
    {
      "cell_type": "code",
      "source": [
        "#Graficos boxplot para definição de outliers\n",
        "X2=base_house[\"zipcode\"]\n",
        "Y2=base_house[\"price\"]\n",
        "plt.figure(figsize=(12, 6))\n",
        "sns.boxplot(x=X2,y=Y2,data=base_house)\n",
        "plt.show()"
      ],
      "metadata": {
        "id": "SRSbhhoc3N3d"
      },
      "execution_count": null,
      "outputs": []
    },
    {
      "cell_type": "code",
      "source": [
        "#Criando um dataframe somente com as casas que são outliers negativos dentro do seu zipcode\n",
        "\n",
        "# Selecionar apenas as variáveis necessárias\n",
        "outliers_negativos = base_house[['id','zipcode', 'price']]\n",
        "# Calcular os limites para outliers por \"zipcode\" usando o método IQR\n",
        "def calcular_limites(group):\n",
        "    Q1 = group['price'].quantile(0.25)\n",
        "    Q3 = group['price'].quantile(0.75)\n",
        "    IQR = Q3 - Q1\n",
        "    limite_inferior = Q1 - 1.5 * IQR\n",
        "    return group[group['price'] < limite_inferior]\n",
        "# Aplicar a função para cada grupo (zipcode)\n",
        "outliers_negativos_agrupados = outliers_negativos.groupby('zipcode').apply(calcular_limites)\n",
        "# Resetar o índice após a operação de agrupamento\n",
        "outliers_negativos_agrupados.reset_index(drop=True, inplace=True)"
      ],
      "metadata": {
        "id": "b9wd3dSG7dQb"
      },
      "execution_count": 17,
      "outputs": []
    },
    {
      "cell_type": "code",
      "source": [
        "#Traçar uma matriz de correlação entre as variaveis quantitativas e o preço ()\n",
        "matriz_correlacao = variaveis_quantitativas.corr()\n",
        "plt.figure(figsize=(12, 8))\n",
        "sns.heatmap(matriz_correlacao, annot=True, cmap='coolwarm', fmt=\".2f\", linewidths=.5)\n",
        "plt.show()\n",
        "#Analisando o gráfico é possivel observar que as variáveis que mais possuem correlação com a variável preço são: sqft_living,grade,sqft_above"
      ],
      "metadata": {
        "id": "uN3VNANi56kB"
      },
      "execution_count": null,
      "outputs": []
    },
    {
      "cell_type": "markdown",
      "source": [
        "## Levantamento de Hipóteses e Análise Exploratória de Dados"
      ],
      "metadata": {
        "id": "eblU_dPX0hOH"
      }
    },
    {
      "cell_type": "markdown",
      "source": [
        "### Há uma diferença de preço, estatisticamente relevante, entre os zipcodes?"
      ],
      "metadata": {
        "id": "V3mLHGRjOntI"
      }
    },
    {
      "cell_type": "code",
      "source": [
        "#Teste de Hipoteses para testar se há uma diferença de preço estatisticamente relevante na média dos preços das casas entre zipcodes\n",
        "#Foi utilizado o teste de wilconxon\n",
        "#Hipoteses nula: Não há diferença no preços entre zipcodes\n",
        "#obs:foi necessário colher amostras aleatórias para os zipcodes com mais de 50 casas para que todas as bases de comparação tivessem o mesmo tamanho\n",
        "\n",
        "# Obter a lista única de códigos postais\n",
        "codigos_postais_unicos = base_house['zipcode'].unique()\n",
        "# Criar dicionário para armazenar as bases de dados separadas\n",
        "bases_separadas = {}\n",
        "# Loop para criar bases de dados separadas\n",
        "for codigo_postal in codigos_postais_unicos:\n",
        "    nome_base = f'base_zipcode_{codigo_postal}'\n",
        "    base_temp = base_house.loc[base_house['zipcode'] == codigo_postal, ['price']].copy()\n",
        "    # Excluir aleatoriamente linhas até que a base tenha 50 linhas\n",
        "    while len(base_temp) > 50:\n",
        "        linha_excluir = base_temp.sample(1).index\n",
        "        base_temp.drop(linha_excluir, inplace=True)\n",
        "    bases_separadas[nome_base] = base_temp\n",
        "\n",
        "\n",
        "from scipy.stats import wilcoxon\n",
        "from itertools import combinations\n",
        "# Lista para armazenar os resultados do teste de Wilcoxon\n",
        "resultados_wilcoxon = []\n",
        "# Loop para realizar o teste de Wilcoxon para cada par de bases\n",
        "for (nome_base1, base1), (nome_base2, base2) in combinations(bases_separadas.items(), 2):\n",
        "    # Realizar o teste de Wilcoxon\n",
        "    estatistica, p_valor = wilcoxon(base1['price'], base2['price'])\n",
        "    # Armazenar os resultados\n",
        "    resultados_wilcoxon.append({\n",
        "        'Par de Bases': (nome_base1, nome_base2),\n",
        "        'Estatística de Wilcoxon': estatistica,\n",
        "        'P-valor': p_valor\n",
        "    })"
      ],
      "metadata": {
        "id": "nbcFk7gT_qpG"
      },
      "execution_count": null,
      "outputs": []
    },
    {
      "cell_type": "code",
      "source": [
        "#Conta a quantidade de pares que possuem valor de pvalue menor que 0,05 e portanto quantiadede de pares de zipcodes em que a hipotese nula pode ser descartada\n",
        "resultados_wilcoxon = pd.DataFrame(resultados_wilcoxon)\n",
        "(resultados_wilcoxon['P-valor'] < 0.05).sum()\n"
      ],
      "metadata": {
        "id": "Rf1dbzz3LDhJ"
      },
      "execution_count": null,
      "outputs": []
    },
    {
      "cell_type": "code",
      "source": [
        "#Conta a quantidade de pares que possuem valor de pvalue maior  que 0,05 e portanto quantiadede de pares de zipcodes em que a hipotese nula não pode ser descartada\n",
        "(resultados_wilcoxon['P-valor'] >= 0.05).sum()\n",
        "#É possivel observar dessa forma, que há, entre a grande maioria dos zipcodes, uma diferença na média dos preços. Dessa forma, a escolha do zipcode influencia diretamente no preço."
      ],
      "metadata": {
        "id": "iY0rhTiGLHZl"
      },
      "execution_count": null,
      "outputs": []
    },
    {
      "cell_type": "markdown",
      "source": [
        "### Quanto mais banheiros mais cara é a casa?\n"
      ],
      "metadata": {
        "id": "NYW0Bbt2O1hH"
      }
    },
    {
      "cell_type": "markdown",
      "source": [
        "De acordo com a matriz de correlação traçada anteriormente é possivel afirmar que sim.\n",
        "É possivel analisar, adicionalmente, a partir de e/ou até quantos banheiros o preço aumenta e qual o incremento de preço por cada banheiro."
      ],
      "metadata": {
        "id": "7ojH6XfzO34K"
      }
    },
    {
      "cell_type": "code",
      "source": [
        "#Observando as estatisticas descritivas do preço por quantidade de banheiro\n",
        "base_house.groupby('bathrooms')['price'].describe()\n",
        "#Para essa analise será considerado somente a quantidade de banheiro entre 1 e 4, devido a quantidade irrelevante de casas fora dessa faixa"
      ],
      "metadata": {
        "id": "OKEO7yVTSpjL"
      },
      "execution_count": null,
      "outputs": []
    },
    {
      "cell_type": "code",
      "source": [
        "#Grafico de evolução do preço em relação a quantidade de banheiros\n",
        "from matplotlib.ticker import FuncFormatter\n",
        "base_house_filtrada = base_house[(base_house['bathrooms'] >= 1) & (base_house['bathrooms'] <= 4)]\n",
        "def milhares_de_dolares_formatter(x, pos):\n",
        "    return f\"${int(x/1000)}K\"\n",
        "plt.figure(figsize=(12, 6))\n",
        "sns.barplot(x='bathrooms', y='price', data=base_house_filtrada, ci=None)\n",
        "plt.xlabel('Número de Banheiros')\n",
        "plt.ylabel('Média de Preço')\n",
        "plt.title('Média de Preço por Número de Banheiros')\n",
        "formatter = FuncFormatter(milhares_de_dolares_formatter)\n",
        "plt.gca().yaxis.set_major_formatter(formatter)\n",
        "plt.show()\n",
        "#Pelo grafico foi levantada a hipotese que a partir de 2 banheiros o preço da casa começa a mudar. Para confirmar isso será feito o teste de hipotese para comparar a média do preço de casas com 1, 2, 3 e 4 ban"
      ],
      "metadata": {
        "id": "aP0Jg-5WQJPm"
      },
      "execution_count": null,
      "outputs": []
    },
    {
      "cell_type": "code",
      "source": [
        "# Obter a lista única banheiros\n",
        "base_house_filtrada = base_house_filtrada[base_house_filtrada['bathrooms'] != 1.25].copy()\n",
        "banheiros_unicos = base_house_filtrada['bathrooms'].unique()\n",
        "# Criar dicionário para armazenar as bases de dados separadas\n",
        "bases_separadas1 = {}\n",
        "# Loop para criar bases de dados separadas\n",
        "for banheiros in banheiros_unicos:\n",
        "    nome_base1 = f'base_banheiro_{banheiros}'\n",
        "    base_temp1 = base_house_filtrada.loc[base_house_filtrada['bathrooms'] == banheiros, ['price']].copy()\n",
        "    # Excluir aleatoriamente linhas até que a base tenha 136 linhas\n",
        "    while len(base_temp1) > 136:\n",
        "        linha_excluir1 = base_temp1.sample(1).index\n",
        "        base_temp1.drop(linha_excluir1, inplace=True)\n",
        "    bases_separadas1[nome_base1] = base_temp1"
      ],
      "metadata": {
        "id": "8M9wiVa_Y3P0"
      },
      "execution_count": 44,
      "outputs": []
    },
    {
      "cell_type": "code",
      "source": [
        "# Lista para armazenar os resultados do teste de Wilcoxon\n",
        "resultados_wilcoxon1 = []\n",
        "# Loop para realizar o teste de Wilcoxon para cada par de bases\n",
        "for (nome_base1, base1), (nome_base2, base2) in combinations(bases_separadas1.items(), 2):\n",
        "    # Realizar o teste de Wilcoxon\n",
        "    estatistica, p_valor = wilcoxon(base1['price'], base2['price'])\n",
        "    # Armazenar os resultados\n",
        "    resultados_wilcoxon1.append({\n",
        "        'Par de Bases': (nome_base1, nome_base2),\n",
        "        'Estatística de Wilcoxon': estatistica,\n",
        "        'P-valor': p_valor\n",
        "    })\n",
        "resultados_wilcoxon1 = pd.DataFrame(resultados_wilcoxon1)\n",
        "resultados_wilcoxon1"
      ],
      "metadata": {
        "id": "cEXvHvbDW2hh"
      },
      "execution_count": null,
      "outputs": []
    },
    {
      "cell_type": "code",
      "source": [
        "resultados_wilcoxon1_filtrado = resultados_wilcoxon1.loc[resultados_wilcoxon1['P-valor'] > 0.05, :]\n",
        "resultados_wilcoxon1_filtrado\n",
        "# Por meio desses resultados é possivel afirmar que o acrescimo de 1 banheiro valoriza a casa. Mas o acresimo de 0,5 ou menos banheiros depende da quantidade\n",
        "# Dessa forma, será feito o calculo do incremento de valor no acresimo de 1"
      ],
      "metadata": {
        "id": "93ioRB2uZ4hP"
      },
      "execution_count": null,
      "outputs": []
    },
    {
      "cell_type": "code",
      "source": [
        "# Calculo do incremento\n",
        "# Esse calculo será feito de acordo com o tamanho da casa e o zipcode, já que isso não pode ser alterado em uma possivel reforma e tem correlação com o preço.\n",
        "valores_bathrooms = [1, 2, 3, 4]\n",
        "percentis = [i / 10 for i in range(11)]\n",
        "base_house_filtrada1 = base_house_filtrada[base_house_filtrada['bathrooms'].isin(valores_bathrooms)].copy()\n",
        "base_house_filtrada1['sqft_living_percentil'] = pd.qcut(base_house_filtrada1['sqft_living'], q=percentis, labels=False)\n",
        "preco_banheiro = base_house_filtrada1.groupby(['bathrooms', 'sqft_living_percentil','zipcode'])['price'].mean().reset_index()\n",
        "preco_banheiro.dropna(subset=['price'], inplace=True)\n",
        "preco_banheiro = preco_banheiro.sort_values(by=['zipcode','sqft_living_percentil'])\n",
        "preco_banheiro['diferenca_preco'] = preco_banheiro['price'].diff()\n",
        "preco_banheiro['teste'] = ((preco_banheiro['bathrooms'].shift(1) == preco_banheiro['bathrooms'] - 1) &\n",
        "                                 (preco_banheiro['sqft_living_percentil'].shift(1) == preco_banheiro['sqft_living_percentil'])\n",
        "                                     & (preco_banheiro['zipcode'].shift(1) == preco_banheiro['zipcode'])).astype(int)\n",
        "preco_banheiro = preco_banheiro[preco_banheiro['teste'] == 1].copy()\n",
        "preco_banheiro = preco_banheiro.groupby(['bathrooms'])['diferenca_preco'].mean().reset_index()\n",
        "preco_banheiro\n",
        "#Esses são os valores incrementais de adicionar 1 banheiro a casa. É possivel observar que a diferença de valor de uma casa de 3 para 4 banheiros com um tamanho similar é grande\n",
        "#O calculo foi feito da seguinte forma: 1. Dividir a base em percentis de acodo com o tamanho da casa 2. Calcular a média do preço agrupando por qtde de banheiro, tamanho e zipcode\n",
        "#3. Calcular a diferença média de preço de uma casa com 1 e 2 banheiros, por exemplo - entre uma casa na mesma região na mesma faixa de tamanho. 4. Calcular a média de aumento de preço com o incremento de um banheiro por quantidade de banheiro já existente"
      ],
      "metadata": {
        "id": "sdKCLWcEbdrr"
      },
      "execution_count": null,
      "outputs": []
    },
    {
      "cell_type": "markdown",
      "source": [
        "### Casas renovadas são mais caras?"
      ],
      "metadata": {
        "id": "G6jdPI1DqMBX"
      }
    },
    {
      "cell_type": "code",
      "source": [
        "# Criar dicionário para armazenar as bases de dados separadas\n",
        "renovada_unica = base_house['renovated'].unique()\n",
        "bases_separadas2 = {}\n",
        "# Loop para criar bases de dados separadas\n",
        "for renovada in renovada_unica:\n",
        "    nome_base2 = f'base_renovada_{renovada}'\n",
        "    base_temp2 = base_house.loc[base_house['renovated'] == renovada, ['price']].copy()\n",
        "    # Excluir aleatoriamente linhas até que a base tenha 914 linhas\n",
        "    while len(base_temp2) > 914:\n",
        "        linha_excluir2 = base_temp2.sample(1).index\n",
        "        base_temp2.drop(linha_excluir2, inplace=True)\n",
        "    bases_separadas2[nome_base2] = base_temp2"
      ],
      "metadata": {
        "id": "8onGtjIHAGQI"
      },
      "execution_count": 48,
      "outputs": []
    },
    {
      "cell_type": "code",
      "source": [
        "from scipy.stats import wilcoxon\n",
        "from itertools import combinations\n",
        "resultados_wilcoxon3 = []\n",
        "# Loop para realizar o teste de Wilcoxon para cada par de bases\n",
        "for (nome_base1, base1), (nome_base2, base2) in combinations(bases_separadas2.items(), 2):\n",
        "    # Realizar o teste de Wilcoxon\n",
        "    estatistica, p_valor = wilcoxon(base1['price'], base2['price'])\n",
        "    # Armazenar os resultados\n",
        "    resultados_wilcoxon3.append({\n",
        "        'Par de Bases': (nome_base1, nome_base2),\n",
        "        'Estatística de Wilcoxon': estatistica,\n",
        "        'P-valor': p_valor\n",
        "    })\n",
        "resultados_wilcoxon3\n",
        "# É possivel concluir que há uma diferença na média de preços entre casas renovadas ou não"
      ],
      "metadata": {
        "id": "6ON16KgTCuBr"
      },
      "execution_count": null,
      "outputs": []
    },
    {
      "cell_type": "code",
      "source": [
        "renovada = base_house.groupby(['renovated'])['price'].mean().reset_index()\n",
        "renovada\n",
        "#A casa renovada é mais cara que a casa não renovada\n"
      ],
      "metadata": {
        "id": "vXIHTe_IDwie"
      },
      "execution_count": null,
      "outputs": []
    },
    {
      "cell_type": "code",
      "source": [
        "# Calculo do incremento\n",
        "# Esse calculo será feito de acordo com o tamanho da casa e o zipcode, já que isso não pode ser alterado em uma possivel reforma e tem correlação com o preço.\n",
        "percentis = [i / 10 for i in range(11)]\n",
        "base_house1=base_house\n",
        "base_house1['sqft_living_percentil'] = pd.qcut(base_house1['sqft_living'], q=percentis, labels=False)\n",
        "preco_renovada = base_house1.groupby(['renovated', 'sqft_living_percentil','zipcode'])['price'].mean().reset_index()\n",
        "preco_renovada.dropna(subset=['price'], inplace=True)\n",
        "preco_renovada = preco_renovada.sort_values(by=['zipcode','sqft_living_percentil'])\n",
        "preco_renovada['diferenca_preco'] = preco_renovada['price'].diff()\n",
        "preco_renovada['teste'] = ((preco_renovada['renovated'].shift(1) != preco_renovada['renovated']) &\n",
        "                                 (preco_renovada['sqft_living_percentil'].shift(1) == preco_renovada['sqft_living_percentil'])\n",
        "                                     & (preco_renovada['zipcode'].shift(1) == preco_renovada['zipcode'])).astype(int)\n",
        "preco_renovada = preco_renovada[preco_renovada['teste'] == 1].copy()\n",
        "preco_renovada = preco_renovada.groupby(['renovated'])['diferenca_preco'].mean().reset_index()\n",
        "preco_renovada\n",
        "#Esses são os valores incrementais de renovar a casa."
      ],
      "metadata": {
        "id": "jYVhj_FAEfbL"
      },
      "execution_count": null,
      "outputs": []
    },
    {
      "cell_type": "markdown",
      "source": [
        "### Casas em melhor condição são mais cara?"
      ],
      "metadata": {
        "id": "EkUE-OyqI0y3"
      }
    },
    {
      "cell_type": "code",
      "source": [
        "#Grafico de evolução do preço em relação a condição da casa\n",
        "from matplotlib.ticker import FuncFormatter\n",
        "base_house2 = base_house\n",
        "def milhares_de_dolares_formatter(x, pos):\n",
        "    return f\"${int(x/1000)}K\"\n",
        "plt.figure(figsize=(12, 6))\n",
        "sns.barplot(x='condition', y='price', data=base_house2, ci=None)\n",
        "plt.xlabel('Condição')\n",
        "plt.ylabel('Média de Preço')\n",
        "plt.title('Média de Preço por Condição da Casa')\n",
        "formatter = FuncFormatter(milhares_de_dolares_formatter)\n",
        "plt.gca().yaxis.set_major_formatter(formatter)\n",
        "plt.show()\n",
        "#Pelo grafico levanta-se a hipotese de que o preço médio das casas aumenta, somente, quando elas saem de uma condição 2 para 3."
      ],
      "metadata": {
        "id": "MTwjnn39JAYj"
      },
      "execution_count": null,
      "outputs": []
    },
    {
      "cell_type": "code",
      "source": [
        "# Obter a lista única de condição\n",
        "#Tirando casas com condição = 1 devido a quantidade reduzida de casas nessa condição\n",
        "base_house2 = base_house[base_house['condition'] != 1].copy()\n",
        "condition_unicos = base_house2['condition'].unique()\n",
        "# Criar dicionário para armazenar as bases de dados separadas\n",
        "bases_separadas3 = {}\n",
        "# Loop para criar bases de dados separadas\n",
        "for condition in condition_unicos:\n",
        "    nome_base3 = f'base_zipcode_{condition}'\n",
        "    base_temp3 = base_house2.loc[base_house2['condition'] == condition, ['price']].copy()\n",
        "    # Excluir aleatoriamente linhas até que a base tenha 50 linhas\n",
        "    while len(base_temp3) > 172:\n",
        "        linha_excluir3 = base_temp3.sample(1).index\n",
        "        base_temp3.drop(linha_excluir3, inplace=True)\n",
        "    bases_separadas3[nome_base3] = base_temp3"
      ],
      "metadata": {
        "id": "_7Y0RatNKJH8"
      },
      "execution_count": 53,
      "outputs": []
    },
    {
      "cell_type": "code",
      "source": [
        "# Lista para armazenar os resultados do teste de Wilcoxon\n",
        "resultados_wilcoxon2 = []\n",
        "# Loop para realizar o teste de Wilcoxon para cada par de bases\n",
        "for (nome_base1, base1), (nome_base2, base2) in combinations(bases_separadas3.items(), 2):\n",
        "    # Realizar o teste de Wilcoxon\n",
        "    estatistica, p_valor = wilcoxon(base1['price'], base2['price'])\n",
        "    # Armazenar os resultados\n",
        "    resultados_wilcoxon2.append({\n",
        "        'Par de Bases': (nome_base1, nome_base2),\n",
        "        'Estatística de Wilcoxon': estatistica,\n",
        "        'P-valor': p_valor\n",
        "    })\n",
        "resultados_wilcoxon2 = pd.DataFrame(resultados_wilcoxon2)\n",
        "resultados_wilcoxon2\n",
        "#Conforme previsto há uma diferença estatisticamente significante na media dos preços quando a casa sai do patamar de 2 para 3 na condição"
      ],
      "metadata": {
        "id": "1MIlEsr_LYua"
      },
      "execution_count": null,
      "outputs": []
    },
    {
      "cell_type": "code",
      "source": [
        "# Calculo do incremento\n",
        "# Esse calculo será feito de acordo com o tamanho da casa e o zipcode, já que isso não pode ser alterado em uma possivel reforma e tem correlação com o preço.\n",
        "percentis = [i / 10 for i in range(11)]\n",
        "base_house2['sqft_living_percentil'] = pd.qcut(base_house2['sqft_living'], q=percentis, labels=False)\n",
        "base_house2['condition'] = base_house2['condition'].astype(int)\n",
        "preco_condicao = base_house2.groupby(['condition', 'sqft_living_percentil','zipcode'])['price'].mean().reset_index()\n",
        "preco_condicao.dropna(subset=['price'], inplace=True)\n",
        "preco_condicao = preco_condicao.sort_values(by=['zipcode','sqft_living_percentil'])\n",
        "preco_condicao['diferenca_preco'] = preco_condicao['price'].diff()\n",
        "preco_condicao['teste'] = ((preco_condicao['condition'].shift(1) == preco_condicao['condition'] - 1) &\n",
        "                                 (preco_condicao['sqft_living_percentil'].shift(1) == preco_condicao['sqft_living_percentil'])\n",
        "                                     & (preco_condicao['zipcode'].shift(1) == preco_condicao['zipcode'])).astype(int)\n",
        "preco_condicao = preco_condicao[preco_condicao['teste'] == 1].copy()\n",
        "preco_condicao = preco_condicao.groupby(['condition'])['diferenca_preco'].mean().reset_index()\n",
        "preco_condicao = preco_condicao[preco_condicao['condition'] == 3].copy()\n",
        "preco_condicao"
      ],
      "metadata": {
        "id": "fnWd5fYgMIa6"
      },
      "execution_count": null,
      "outputs": []
    },
    {
      "cell_type": "markdown",
      "source": [
        "## Insights e Respostas"
      ],
      "metadata": {
        "id": "ILUpmkP6zRL-"
      }
    },
    {
      "cell_type": "markdown",
      "source": [
        "**Insights**\n",
        "\n",
        "\n",
        "\n",
        "1.   Não há nenhuma variável que sozinha tenha uma correlação considerada muito forte com o preço da casa. Porém, o tamanho da casa e o estado em que ela se encontra possuem uma relação relativamente forte.\n",
        "2.   A única variavel que produz outliers negativos relacionados ao preço é o zipcode. Esses outliers negativos podem ser usados para compra da casa em um preço abaixo do mercado. É necessario tomara cuidado com o preço de venda pois há uma diferença estatisticamente significante do preço médio das casas dependendo do zipcode.\n",
        "3.   O acresimo de 1 banheiro valoriza a casa, mesmo quando mantido o tamanho da mesma.\n",
        "4.   Casas em  renovadas tem um preço estatiticamente maior que casas não renovadas e com uma avaliação ruim. Há uma diferença de preço, estatisticamente significante, quando se compara uma casa com nota de condição igual ou abaixo de 2 com uma casa com nota acima de 2.\n",
        "\n"
      ],
      "metadata": {
        "id": "xptxz0FNYQoD"
      }
    },
    {
      "cell_type": "code",
      "source": [
        "#Definição da sugestão de casas que devem ser compradas\n",
        "outliers_negativos_agrupados = pd.merge(outliers_negativos_agrupados, base_house[['id', 'renovated', 'condition','bathrooms']], on='id', how='left')\n",
        "outliers_negativos_agrupados['condition'] = outliers_negativos_agrupados['condition'].astype('int')\n",
        "filtro  = (outliers_negativos_agrupados['renovated'] == '0') & (outliers_negativos_agrupados['condition'] <= 2)\n",
        "outliers_negativos_agrupados = outliers_negativos_agrupados[filtro]\n",
        "#filtrando somente casas que são outliers negativos em sua respectiva localização, que tenha uma condição <=2 e que não tenha sido reformada.\n",
        "outliers_negativos_agrupados\n"
      ],
      "metadata": {
        "id": "DJGQw9--aih4"
      },
      "execution_count": null,
      "outputs": []
    },
    {
      "cell_type": "code",
      "source": [
        "#Definição do preço de revenda das casas\n",
        "outliers_negativos_agrupados_preco=outliers_negativos_agrupados\n",
        "outliers_negativos_agrupados_preco = outliers_negativos_agrupados_preco.drop(['zipcode', 'renovated', 'condition', 'bathrooms'], axis=1)\n",
        "valor_referente_bathrooms_2 = preco_banheiro.loc[preco_banheiro['bathrooms'] == 2, 'diferenca_preco'].values[0]\n",
        "outliers_negativos_agrupados_preco['valor_referente_bathrooms'] = valor_referente_bathrooms_2\n",
        "valor_referente_condicao = preco_condicao.loc[preco_condicao['condition'] == 3, 'diferenca_preco'].values[0]\n",
        "outliers_negativos_agrupados_preco['valor_referente_condition'] = valor_referente_condicao\n",
        "valor_referente_reforma = preco_renovada.loc[preco_renovada['renovated'] == '1', 'diferenca_preco'].values[0]\n",
        "outliers_negativos_agrupados_preco['valor_referente_renovated'] = valor_referente_reforma\n",
        "outliers_negativos_agrupados_preco['preco_venda_final'] = outliers_negativos_agrupados_preco['price'] + outliers_negativos_agrupados_preco['valor_referente_bathrooms'] + outliers_negativos_agrupados_preco['valor_referente_condition'] + outliers_negativos_agrupados_preco['valor_referente_renovated']\n",
        "outliers_negativos_agrupados_preco"
      ],
      "metadata": {
        "id": "8LgCi7H3dEgP"
      },
      "execution_count": 63,
      "outputs": []
    },
    {
      "cell_type": "markdown",
      "source": [
        "**Respostas**\n",
        "\n",
        "1.   As casas que podem despertar o interesse do CEO para aquisição são classificadas como outliers negativos, destacando-se por terem preços de venda inferiores ou iguais a Q1 - 1,5 * IQR¹. Essa categorização sugere uma oportunidade de valorização, indicando que tais propriedades estão significativamente abaixo da mediana de preços para a localização. Além disso, a seleção é restrita a casas que não passaram por processos de renovação e apresentam uma condição considerada ruim, o que também representa uma oportunidade de valorização. O preço de compra reflete a listagem atual no mercado, sugerindo que estão disponíveis por um valor abaixo da média. O CEO está interessado em explorar essas condições de mercado, considerando essas propriedades como investimentos estratégicos, buscando potenciais ganhos de valorização no futuro. As informações específicas sobre essas residências estão contidas no DataFrame 'outliers_negativos_agrupados'.\n",
        "2.   O momento mais propício para a revenda das casas ocorre após a conclusão da reforma. O preço de venda resultante é calculado somando o valor inicial de compra ao incremento de preço associado às melhorias realizadas durante a reforma. A reforma pode focar em aumentar o nivel das casas para pelo menos uma condição 3. Adicionalmente, a adição de um banheiro durante a reforma pode significativamente elevar o valor de revenda. O preço de revenda das casas selecionadas pode ser encontrado no DataFrame 'outliers_negativos_agrupados_preco'.\n",
        "3.   Conforme destacado na questão anterior, a realização de uma renovação na casa não apenas eleva o preço de revenda, mas também possibilita melhorias significativas na condição da propriedade, contribuindo assim para um aumento no valor final. Além disso, identificou-se que a quantidade de banheiros é a única variável, além de condição e renovação, que apresenta uma correlação substancial com o preço de revenda. Diante desse insight, sugere-se a consideração do acréscimo de um banheiro às casas, como uma estratégia para impulsionar o preço de revenda. Para avaliar os valores específicos de incremento para as casas com essa recomendação, é possível consultar o DataFrame 'outliers_negativos_agrupados_preco'.\n",
        "\n",
        "¹IQR=Diferença Inter Quartil: Q3-Q1"
      ],
      "metadata": {
        "id": "HtQEDVkozTub"
      }
    }
  ]
}